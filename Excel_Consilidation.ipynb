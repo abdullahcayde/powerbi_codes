{
 "cells": [
  {
   "cell_type": "code",
   "execution_count": 12,
   "id": "4e573adc",
   "metadata": {},
   "outputs": [
    {
     "name": "stdout",
     "output_type": "stream",
     "text": [
      "2.1.1.b CR - Article List.xlsx\n",
      "2.1.1.b CR - Article List - special usage, pre-filtered.xlsx\n",
      "<class 'pandas.core.frame.DataFrame'>\n",
      "RangeIndex: 47727 entries, 0 to 47726\n",
      "Data columns (total 12 columns):\n",
      " #   Column                         Non-Null Count  Dtype \n",
      "---  ------                         --------------  ----- \n",
      " 0   Season                         47727 non-null  int64 \n",
      " 1   Product Division               47727 non-null  object\n",
      " 2   Article Status                 47727 non-null  object\n",
      " 3   Article Development Type Code  47727 non-null  object\n",
      " 4   Article Development Type Desc  47727 non-null  object\n",
      " 5   Model No                       47727 non-null  object\n",
      " 6   Model Status                   47727 non-null  object\n",
      " 7   Model Development Type Code    47727 non-null  object\n",
      " 8   Model Development Type Desc    47727 non-null  object\n",
      " 9   Development Location           47727 non-null  object\n",
      " 10  Key Category Cluster           47727 non-null  object\n",
      " 11  Path                           47727 non-null  object\n",
      "dtypes: int64(1), object(11)\n",
      "memory usage: 4.4+ MB\n",
      "Consolidation completed and saved to: C:\\Users\\Besitzer\\Desktop\\IBM\\EXCEL\\case study - adidas\\Model Data\n"
     ]
    }
   ],
   "source": [
    "import pandas as pd\n",
    "import os\n",
    "\n",
    "# Path to your folder\n",
    "folder_path  = r\"C:\\Users\\Besitzer\\Desktop\\IBM\\EXCEL\\case study - adidas\\Model Data\\In-Season Data\"\n",
    "\n",
    "# List to store all DataFrames\n",
    "dfs = []\n",
    "\n",
    "# Traverse through all folders and files\n",
    "for root, dirs, files in os.walk(folder_path):\n",
    "    for file in files:\n",
    "        print(file)\n",
    "        # Check if file is Excel\n",
    "        if file.endswith('.xlsx') or file.endswith('.xls'):\n",
    "            # Construct full path\n",
    "            file_path = os.path.join(root, file)\n",
    "            # Read Excel file into DataFrame\n",
    "            df = pd.read_excel(file_path)\n",
    "            # add path\n",
    "            df[\"Path\"] = root\n",
    "            # Append DataFrame to list\n",
    "            dfs.append(df)\n",
    "\n",
    "# Concatenate all DataFrames\n",
    "consolidated_df = pd.concat(dfs, ignore_index=True)\n",
    "consolidated_df.info()\n",
    "\n",
    "excel_name = \"In-Season Data\"\n",
    "\n",
    "consolidated_file_path = r'C:\\Users\\Besitzer\\Desktop\\IBM\\EXCEL\\case study - adidas\\Model Data'\n",
    "consolidated_df.to_excel(f\"{consolidated_file_path}\\consolidated_{excel_name}.xlsx\", index=False)\n",
    "\n",
    "print(\"Consolidation completed and saved to:\", consolidated_file_path)"
   ]
  },
  {
   "cell_type": "code",
   "execution_count": 9,
   "id": "ba98a82b",
   "metadata": {},
   "outputs": [
    {
     "name": "stdout",
     "output_type": "stream",
     "text": [
      "C:\\Users\\Besitzer\\Desktop\\IBM\\EXCEL\\case study - adidas\\Model Data\\In-Season Data\n",
      "C:\\Users\\Besitzer\\Desktop\\IBM\\EXCEL\\case study - adidas\\Model Data\\In-Season Data\\SS25\n",
      "C:\\Users\\Besitzer\\Desktop\\IBM\\EXCEL\\case study - adidas\\Model Data\\In-Season Data\\SS25\\CR1\n",
      "C:\\Users\\Besitzer\\Desktop\\IBM\\EXCEL\\case study - adidas\\Model Data\\In-Season Data\\SS25\\CR2\n"
     ]
    }
   ],
   "source": [
    "for root, dirs, files in os.walk(folder_path):\n",
    "    print(root)"
   ]
  },
  {
   "cell_type": "code",
   "execution_count": 12,
   "id": "415ca769",
   "metadata": {},
   "outputs": [
    {
     "name": "stdout",
     "output_type": "stream",
     "text": [
      "[]\n",
      "[]\n",
      "['2.1.1.b CR - Article List.xlsx']\n",
      "['2.1.1.b CR - Article List - special usage, pre-filtered.xlsx']\n"
     ]
    }
   ],
   "source": [
    "for root, dirs, files in os.walk(folder_path):\n",
    "    print(files)"
   ]
  },
  {
   "cell_type": "code",
   "execution_count": 13,
   "id": "fdcba9e1",
   "metadata": {},
   "outputs": [
    {
     "name": "stdout",
     "output_type": "stream",
     "text": [
      "['SS25']\n",
      "['CR1', 'CR2']\n",
      "[]\n",
      "[]\n"
     ]
    }
   ],
   "source": [
    "for root, dirs, files in os.walk(folder_path):\n",
    "    print(dirs)"
   ]
  },
  {
   "cell_type": "code",
   "execution_count": null,
   "id": "e205d2de",
   "metadata": {},
   "outputs": [],
   "source": []
  }
 ],
 "metadata": {
  "kernelspec": {
   "display_name": "Python 3 (ipykernel)",
   "language": "python",
   "name": "python3"
  },
  "language_info": {
   "codemirror_mode": {
    "name": "ipython",
    "version": 3
   },
   "file_extension": ".py",
   "mimetype": "text/x-python",
   "name": "python",
   "nbconvert_exporter": "python",
   "pygments_lexer": "ipython3",
   "version": "3.10.9"
  }
 },
 "nbformat": 4,
 "nbformat_minor": 5
}
